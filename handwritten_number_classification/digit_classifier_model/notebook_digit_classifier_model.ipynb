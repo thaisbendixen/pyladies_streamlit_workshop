{
  "nbformat": 4,
  "nbformat_minor": 0,
  "metadata": {
    "colab": {
      "name": "Handwiritten digit classification model.ipynb",
      "provenance": [],
      "collapsed_sections": []
    },
    "kernelspec": {
      "name": "python3",
      "display_name": "Python 3"
    },
    "language_info": {
      "name": "python"
    }
  },
  "cells": [
    {
      "cell_type": "markdown",
      "source": [
        "# Handwiritten digit classification model - Streamlit workshop"
      ],
      "metadata": {
        "id": "X-CdjcbRaVx5"
      }
    },
    {
      "cell_type": "markdown",
      "source": [
        "The dataset is a dataset of 60,000 small square 28×28 pixel grayscale images of handwritten single digits between 0 and 9. The task is to classify a given image of a handwritten digit into one of 10 classes representing integer values from 0 to 9. If you are new to machine learning I highly recommend watching the following [video](https://www.youtube.com/watch?v=aircAruvnKk)."
      ],
      "metadata": {
        "id": "H77kHTHOo2kQ"
      }
    },
    {
      "cell_type": "code",
      "execution_count": null,
      "metadata": {
        "id": "AkvAAeRoeniV"
      },
      "outputs": [],
      "source": [
        "%pip install numpy matplotlib tensorflow"
      ]
    },
    {
      "cell_type": "code",
      "source": [
        "import numpy as np # necessary for working with arrays\n",
        "import matplotlib.pyplot as plt # necessary for visulisation of digits\n",
        "import tensorflow as tf # necessary for creating machine learning model"
      ],
      "metadata": {
        "id": "CMew_g36esjd"
      },
      "execution_count": 18,
      "outputs": []
    },
    {
      "cell_type": "markdown",
      "source": [
        "### Preparing data\n",
        "\n",
        "Here we download existing data for our machine learning model. The data includes handwritten digits and their correspondent label. We divide the dataset into training and testing data. \n",
        "\n",
        "Training data:\n",
        "Portion of the dataset that is fed into the machine learning model in order to discover and learn patterns, i.e. to train our model. \n",
        "\n",
        "Testing data:\n",
        "Once machine learning model is built (with training data), an unseen dataset is required to test the model. This is the testing data, which is used to evaluate the performance of the algorithms’ training and to adjust or optimize it for improved results. \n",
        "\n",
        "Additionally the data needs to be divided into X and Y, which represent the hadndrawn digit and the corresponding label (see example further below).\n",
        "\n"
      ],
      "metadata": {
        "id": "X1ly7d3yiM7l"
      }
    },
    {
      "cell_type": "code",
      "source": [
        "# load existing dataset from the tensorflow package\n",
        "(x_train, y_train), (x_test, y_test) = tf.keras.datasets.mnist.load_data()\n",
        "\n",
        "print(f'The number of training samples is {len(x_train):,}')\n",
        "print(f'The number of test samples is {len(x_test):,}')"
      ],
      "metadata": {
        "colab": {
          "base_uri": "https://localhost:8080/"
        },
        "id": "51VcCgm8esbX",
        "outputId": "8774cf07-b722-4789-8c3e-24db2d085f1e"
      },
      "execution_count": 19,
      "outputs": [
        {
          "output_type": "stream",
          "name": "stdout",
          "text": [
            "The number of training samples is 60,000\n",
            "The number of test samples is 10,000\n"
          ]
        }
      ]
    },
    {
      "cell_type": "markdown",
      "source": [
        "Each image is 28 pixels in height and 28 pixels in width, for a total of 784 pixels in total. Each pixel has a single pixel-value associated with it, indicating the lightness or darkness of that pixel, with higher numbers meaning darker. This pixel-value is an integer between 0 and 255, inclusive. Let's plot the digit and the corresponding label of thr first 10 items of the dataset:"
      ],
      "metadata": {
        "id": "syVavggsklTK"
      }
    },
    {
      "cell_type": "code",
      "source": [
        "f, ax = plt.subplots(1, num_classes, figsize=(20,20))\n",
        "\n",
        "for i in range(0, 10):\n",
        "  sample = x_train[i]\n",
        "  ax[i].imshow(sample, cmap='gray')\n",
        "  ax[i].set_title(\"Label: {}\".format(y_train[i]), fontsize=16)"
      ],
      "metadata": {
        "colab": {
          "base_uri": "https://localhost:8080/",
          "height": 134
        },
        "id": "L1gDEN7hjxwE",
        "outputId": "79c39738-4602-4c99-a120-c4b7782d407f"
      },
      "execution_count": 20,
      "outputs": [
        {
          "output_type": "display_data",
          "data": {
            "text/plain": [
              "<Figure size 1440x1440 with 10 Axes>"
            ],
            "image/png": "[encoded data removed]"
          },
          "metadata": {
            "needs_background": "light"
          }
        }
      ]
    },
    {
      "cell_type": "markdown",
      "source": [
        "Now let's get some infromation on the handwritten digits that were used to train this model. We will have to use the same type of data as input for the model later on."
      ],
      "metadata": {
        "id": "ULFnIGNGBUea"
      }
    },
    {
      "cell_type": "code",
      "source": [
        "array_dataset = x_train[4]\n",
        "np.info(array_dataset)\n",
        "\n",
        "print(f\"The maximum value is {np.max(array_dataset)} and the minimum value is {np.min(array_dataset)}\")"
      ],
      "metadata": {
        "colab": {
          "base_uri": "https://localhost:8080/"
        },
        "id": "DJGBEuEWBMPW",
        "outputId": "e489fb4a-cd03-4ff9-b3bc-820c7a5b6a07"
      },
      "execution_count": 21,
      "outputs": [
        {
          "output_type": "stream",
          "name": "stdout",
          "text": [
            "class:  ndarray\n",
            "shape:  (28, 28)\n",
            "strides:  (28, 1)\n",
            "itemsize:  1\n",
            "aligned:  True\n",
            "contiguous:  True\n",
            "fortran:  False\n",
            "data pointer: 0x110aec40\n",
            "byteorder:  little\n",
            "byteswap:  False\n",
            "type: uint8\n",
            "The maximum value is 255 and the minimum value is 0\n"
          ]
        }
      ]
    },
    {
      "cell_type": "markdown",
      "source": [
        "Now we start building the neural network architecture for our machine learning model. In this network we have 1 input layer, 4 hidden layers and 1 output layer. The layer setup and number of neurons is kind of a arbitrary choice. In practice, there’s a lot of room to experiment with the specific structure. In this case I chose a neural network model architecture that I found online.\n",
        "\n",
        "Here is some information on how to build and experiment with your model architecture:\n",
        "\n",
        "[Simple guide to choosing model architecture](https://towardsdatascience.com/building-a-deep-learning-model-using-keras-1548ca149d37) \n",
        "[Comprehensive: Choosing Number of Layers and Nodes](https://machinelearningmastery.com/how-to-configure-the-number-of-layers-and-nodes-in-a-neural-network/) \n",
        "[Comprehensive: Choosing ativation function](https://machinelearningmastery.com/choose-an-activation-function-for-deep-learning/) \n",
        "\n"
      ],
      "metadata": {
        "id": "6EK0bSj2r55r"
      }
    },
    {
      "cell_type": "markdown",
      "source": [
        "The model type or this is our neural network model architecture that we will be using is Sequential. Sequential is the easiest way to build a model in tensorflow. It allows you to build a model layer by layer. Here we define each layer:"
      ],
      "metadata": {
        "id": "tpN9-0S3TnpL"
      }
    },
    {
      "cell_type": "code",
      "source": [
        "model = tf.keras.Sequential()\n",
        "\n",
        "# this is the input layer which flattens our input into one line (2D image arrays into 1D), where each neuron represents a pixel from our digit image\n",
        "model.add(tf.keras.layers.Flatten(input_shape=(28,28,1)))\n",
        "\n",
        "# here we add the hidden layer of our model\n",
        "model.add(tf.keras.layers.Dense(300, activation='relu'))  # rectify linear unit (relu) is default recommended activation function\n",
        "# this means 20% of the neurons will be deactivated during training, which prevents overfitting\n",
        "model.add(tf.keras.layers.Dropout(0.2))\n",
        "model.add(tf.keras.layers.Dense(50, activation='relu'))\n",
        "model.add(tf.keras.layers.Dropout(0.3))\n",
        "\n",
        "# this is the output layer, which has 10 unit, which represent individual digits: 0, 1, 2, ... 9\n",
        "model.add(tf.keras.layers.Dense(10, activation='softmax')) # softmax make sure all neuron values add up to 1, which reprsents the confidence or how likely it is the drawn number is that digit"
      ],
      "metadata": {
        "id": "qQset63TpoLr"
      },
      "execution_count": 22,
      "outputs": []
    },
    {
      "cell_type": "markdown",
      "source": [
        "Next we compile (build) our model archutecture and output a summary of our model:\n"
      ],
      "metadata": {
        "id": "Nk-3KHNfk8ET"
      }
    },
    {
      "cell_type": "code",
      "source": [
        "# combines all layers\n",
        "model.compile(loss='sparse_categorical_crossentropy',\n",
        "              optimizer=tf.keras.optimizers.Adam(0.0003),\n",
        "              metrics=['accuracy'])\n",
        "\n",
        "# shows the model structure including layers and output shape\n",
        "model.summary()"
      ],
      "metadata": {
        "colab": {
          "base_uri": "https://localhost:8080/"
        },
        "id": "qqdbZbEResV9",
        "outputId": "33962b9e-179c-4da9-cf81-da6c0ade58ba"
      },
      "execution_count": 23,
      "outputs": [
        {
          "output_type": "stream",
          "name": "stdout",
          "text": [
            "Model: \"sequential_1\"\n",
            "_________________________________________________________________\n",
            " Layer (type)                Output Shape              Param #   \n",
            "=================================================================\n",
            " flatten_1 (Flatten)         (None, 784)               0         \n",
            "                                                                 \n",
            " dense_3 (Dense)             (None, 300)               235500    \n",
            "                                                                 \n",
            " dropout_2 (Dropout)         (None, 300)               0         \n",
            "                                                                 \n",
            " dense_4 (Dense)             (None, 50)                15050     \n",
            "                                                                 \n",
            " dropout_3 (Dropout)         (None, 50)                0         \n",
            "                                                                 \n",
            " dense_5 (Dense)             (None, 10)                510       \n",
            "                                                                 \n",
            "=================================================================\n",
            "Total params: 251,060\n",
            "Trainable params: 251,060\n",
            "Non-trainable params: 0\n",
            "_________________________________________________________________\n"
          ]
        }
      ]
    },
    {
      "cell_type": "markdown",
      "source": [
        "Once our model is ready we can start the training of our model:"
      ],
      "metadata": {
        "id": "Q_5B75LPWHSv"
      }
    },
    {
      "cell_type": "code",
      "source": [
        "batch_size = 32 # how many images get digested by the model at a time\n",
        "epochs = 20 # one epoch is when an ENTIRE dataset is passed forward and backward through the neural network onc.\n",
        "model.fit(x_train, y_train, batch_size=batch_size, epochs=epochs)"
      ],
      "metadata": {
        "colab": {
          "base_uri": "https://localhost:8080/"
        },
        "id": "5pOxmEjNCj8M",
        "outputId": "0c6e2bb8-7349-4063-9a20-5ad597116f15"
      },
      "execution_count": 24,
      "outputs": [
        {
          "output_type": "stream",
          "name": "stdout",
          "text": [
            "Epoch 1/20\n",
            "1875/1875 [==============================] - 12s 6ms/step - loss: 3.7082 - accuracy: 0.2262\n",
            "Epoch 2/20\n",
            "1875/1875 [==============================] - 11s 6ms/step - loss: 1.7687 - accuracy: 0.3740\n",
            "Epoch 3/20\n",
            "1875/1875 [==============================] - 8s 4ms/step - loss: 1.4434 - accuracy: 0.5008\n",
            "Epoch 4/20\n",
            "1875/1875 [==============================] - 8s 4ms/step - loss: 1.2719 - accuracy: 0.5616\n",
            "Epoch 5/20\n",
            "1875/1875 [==============================] - 9s 5ms/step - loss: 1.1179 - accuracy: 0.6107\n",
            "Epoch 6/20\n",
            "1875/1875 [==============================] - 8s 4ms/step - loss: 0.9345 - accuracy: 0.6839\n",
            "Epoch 7/20\n",
            "1875/1875 [==============================] - 9s 5ms/step - loss: 0.7561 - accuracy: 0.7483\n",
            "Epoch 8/20\n",
            "1875/1875 [==============================] - 9s 5ms/step - loss: 0.6377 - accuracy: 0.7811\n",
            "Epoch 9/20\n",
            "1875/1875 [==============================] - 9s 5ms/step - loss: 0.5098 - accuracy: 0.8399\n",
            "Epoch 10/20\n",
            "1875/1875 [==============================] - 8s 4ms/step - loss: 0.4285 - accuracy: 0.8724\n",
            "Epoch 11/20\n",
            "1875/1875 [==============================] - 8s 4ms/step - loss: 0.3606 - accuracy: 0.8922\n",
            "Epoch 12/20\n",
            "1875/1875 [==============================] - 9s 5ms/step - loss: 0.3196 - accuracy: 0.9072\n",
            "Epoch 13/20\n",
            "1875/1875 [==============================] - 9s 5ms/step - loss: 0.2812 - accuracy: 0.9189\n",
            "Epoch 14/20\n",
            "1875/1875 [==============================] - 8s 5ms/step - loss: 0.2475 - accuracy: 0.9279\n",
            "Epoch 15/20\n",
            "1875/1875 [==============================] - 8s 4ms/step - loss: 0.2324 - accuracy: 0.9320\n",
            "Epoch 16/20\n",
            "1875/1875 [==============================] - 8s 4ms/step - loss: 0.2097 - accuracy: 0.9404\n",
            "Epoch 17/20\n",
            "1875/1875 [==============================] - 8s 4ms/step - loss: 0.1935 - accuracy: 0.9451\n",
            "Epoch 18/20\n",
            "1875/1875 [==============================] - 8s 4ms/step - loss: 0.1806 - accuracy: 0.9467\n",
            "Epoch 19/20\n",
            "1875/1875 [==============================] - 8s 4ms/step - loss: 0.1678 - accuracy: 0.9515\n",
            "Epoch 20/20\n",
            "1875/1875 [==============================] - 8s 4ms/step - loss: 0.1613 - accuracy: 0.9526\n"
          ]
        },
        {
          "output_type": "execute_result",
          "data": {
            "text/plain": [
              "<keras.callbacks.History at 0x7f77ebc295d0>"
            ]
          },
          "metadata": {},
          "execution_count": 24
        }
      ]
    },
    {
      "cell_type": "markdown",
      "source": [
        "Now that our model has been trained we can look at It's performance and save It. "
      ],
      "metadata": {
        "id": "EMuQB5cDWOTS"
      }
    },
    {
      "cell_type": "code",
      "source": [
        "# calculate accuracy and \n",
        "model.evaluate(x_test, y_test)\n",
        "\n",
        "# the SavedModel format is a way to serialize models, so that they can be restored later using tf.keras.models.load_model\n",
        "model.save('digit_classifier_model/digit_classifier.model')"
      ],
      "metadata": {
        "colab": {
          "base_uri": "https://localhost:8080/"
        },
        "id": "iw4a8bKTWOEu",
        "outputId": "bef5b641-c61b-4411-eeb5-18b07dc1b350"
      },
      "execution_count": 25,
      "outputs": [
        {
          "output_type": "stream",
          "name": "stdout",
          "text": [
            "313/313 [==============================] - 1s 2ms/step - loss: 0.1659 - accuracy: 0.9735\n",
            "INFO:tensorflow:Assets written to: digit_classifier_model/digit_classifier.model/assets\n"
          ]
        }
      ]
    }
  ]
}